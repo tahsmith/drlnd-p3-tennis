{
 "cells": [
  {
   "cell_type": "markdown",
   "metadata": {},
   "source": [
    "# Cooperative Learning\n",
    "\n",
    "## Intro\n",
    "\n",
    "The Tennis game is solved here with a method loosely following multi-agent deep deterministic policy gradients. (https://arxiv.org/abs/1706.02275v3) \n",
    "\n",
    "## Multi-agent Deep Deterministic Policy Gradients Overview\n",
    "\n",
    "This method is an actor-critic method with a deterministic policy (the actor) that outputs an action for an agent in a certain state. The main difference from the normal deep deterministic policy method is that the critic used in training is input the states and actions of all agents, and then provides an estimate of the action-value function for each agent.\n",
    "\n",
    "In the most general setting there are individual actor and critic networks for each agent and parameters are learned separately for each agent. In the case of the tennis game however, the agents are completely symmetrical, hence learning for one helps the other just as much. So in this solution there is a single actor and a single critic and they act for both agents. This is done by reversing the agent experiences and adding these mirrored experiences to the batch used for training. (See `Agent.learn` in the `agent.py` file.) \n",
    "\n",
    "The critic is trained by minimising the 1-step bootstrapping Bellman equation error. The error is measured with respect to a target network.\n",
    "\n",
    "## Solution\n",
    " \n",
    "### Neural networks\n",
    "\n",
    "The general structure of the networks are the same as the original DDPG paper, modified with additional inputs for multiple agents. Noise added to the output of the actor from a random walk to aid exploration.\n",
    "\n",
    "Actor network:\n",
    " 1. 24 inputs, i.e., 12 each for 2 agents.\n",
    " 2. 400 hidden units, no bias, batch normalisation, ELU\n",
    " 3. Dropout\n",
    " 4. 300 hidden units, no bias, batch normalisation, ELU\n",
    " 5. 4 outputs, no bias, batch normalisation, tanh activation\n",
    " \n",
    "State network (submodule of the critic):\n",
    " 1. 24 inputs\n",
    " 2. 400 outputs\n",
    " 3. Dropout\n",
    " \n",
    "Critic network:\n",
    " 1. 4 action inputs (2x2 agents) + 400 outputs from state network, ELU\n",
    " 2. 300 hidden units, ELU\n",
    " 3. 1 output\n",
    "\n",
    "### Training\n",
    "\n",
    "I used a dropout layer (p=0.2) after the first hidden layer of each network, (the original DDPG uses L2 regularisation.)\n",
    "\n",
    "I used ADAM optimiser as per the paper. Learning rates for the critic and actor are 1e-3 and 1e-4 respectively.\n",
    "\n",
    "Mini-batches of 64 samples are taken from the replay buffer every step of the episode for training. After swapping the agents this doubles to 128.\n",
    "\n",
    "The actor output noise was reduced each episode at a rate of 0.9995, starting from 0.2.\n",
    "\n",
    "\n",
    "### Implementation\n",
    "\n",
    " * `actor.py`: The actor network\n",
    " * `critic.py`: The critic newtork\n",
    " * `agent.py`: The agent, including the policy evaulation and learning steps\n",
    " * `replay_buffer.py`: Implementation of the replay buffer with priority.\n",
    "\n",
    "\n",
    "## Conclusion\n",
    "\n",
    "A reasonable multi-agent learning performance can be achieved with only simple modifications to the DDPG method.\n",
    "\n",
    "In fact this enviroment can be solved without these modifications: using a critic that only sees a single agent solves this environment too.\n",
    "\n",
    "## Further Work\n",
    "\n",
    "This method is limited to this kind of symmetric game where the strategies learned are applicable to all agents.\n",
    "\n",
    "To solve a more complex environment such as the Soccer env, the agents must be separated so that can learn their own specialised role, (i.e., striker, goal keeper.) \n",
    "\n",
    "The performance of the critic is also limited in this setting. For each agent we add more inputs to the critic network, but rest of the network does not grow to accomodate, so the final estimation may end up biased. Expanding the size of the rest of the network may be necessary with more agents.\n",
    "\n",
    "Unlike actual tennis, this environment is cooperative. The score is related to simply getting the ball over the net, rather that forcing the opponent to make an error. Making this competitive by using a different score would be an interesting next step."
   ]
  },
  {
   "cell_type": "code",
   "execution_count": 1,
   "metadata": {},
   "outputs": [],
   "source": [
    "import torch\n",
    "import numpy as np\n",
    "from matplotlib import pyplot as plt\n",
    "from IPython.display import HTML\n",
    "from unityagents import UnityEnvironment\n",
    "\n",
    "from unity_env import unity_episode, get_agent_requirements, wrap_env\n",
    "from train import train\n",
    "from agent import default_agent\n",
    "\n",
    "device = torch.device(\"cuda:0\" if torch.cuda.is_available() else \"cpu\")"
   ]
  },
  {
   "cell_type": "code",
   "execution_count": 2,
   "metadata": {},
   "outputs": [
    {
     "name": "stderr",
     "output_type": "stream",
     "text": [
      "INFO:unityagents:\n",
      "'Academy' started successfully!\n",
      "Unity Academy name: Academy\n",
      "        Number of Brains: 1\n",
      "        Number of External Brains : 1\n",
      "        Lesson number : 0\n",
      "        Reset Parameters :\n",
      "\t\t\n",
      "Unity brain name: TennisBrain\n",
      "        Number of Visual Observations (per agent): 0\n",
      "        Vector Observation space type: continuous\n",
      "        Vector Observation space size (per agent): 8\n",
      "        Number of stacked Vector Observation: 3\n",
      "        Vector Action space type: continuous\n",
      "        Vector Action space size (per agent): 2\n",
      "        Vector Action descriptions: , \n"
     ]
    }
   ],
   "source": [
    "env_path = 'Tennis_Linux_NoVis/Tennis.x86_64'\n",
    "env = UnityEnvironment(file_name=env_path)\n",
    "\n",
    "brain_name, state_size, action_size = get_agent_requirements(env)\n",
    "\n",
    "episode_fn = wrap_env(env, brain_name)\n",
    "\n",
    "agent = default_agent(device, state_size, action_size)"
   ]
  },
  {
   "cell_type": "code",
   "execution_count": 3,
   "metadata": {},
   "outputs": [
    {
     "name": "stdout",
     "output_type": "stream",
     "text": [
      "ep =       100, total steps =      1626, score =  0.01, best =  0.01 *\n",
      "ep =       200, total steps =      3172, score =  0.01, best =  0.01  \n",
      "ep =       300, total steps =      4773, score =  0.01, best =  0.01  \n",
      "ep =       400, total steps =      6353, score =  0.01, best =  0.01 *\n",
      "ep =       500, total steps =      7920, score =  0.01, best =  0.01  \n",
      "ep =       600, total steps =      9562, score =  0.01, best =  0.01 *\n",
      "ep =       700, total steps =     10985, score =  0.00, best =  0.01  \n",
      "ep =       800, total steps =     12412, score =  0.00, best =  0.01  \n",
      "ep =       900, total steps =     14180, score =  0.02, best =  0.02 *\n",
      "ep =      1000, total steps =     15667, score =  0.00, best =  0.02  \n",
      "ep =      1100, total steps =     17836, score =  0.03, best =  0.03 *\n",
      "ep =      1200, total steps =     20849, score =  0.05, best =  0.05 *\n",
      "ep =      1300, total steps =     29240, score =  0.20, best =  0.20 *\n",
      "ep =      1400, total steps =     37465, score =  0.21, best =  0.21 *\n",
      "ep =      1500, total steps =     46305, score =  0.23, best =  0.23 *\n",
      "ep =      1600, total steps =     55216, score =  0.22, best =  0.23  \n",
      "ep =      1700, total steps =     64450, score =  0.22, best =  0.23  \n",
      "ep =      1800, total steps =     73449, score =  0.23, best =  0.23 *\n",
      "ep =      1900, total steps =     89932, score =  0.44, best =  0.44 *\n",
      "ep =      2000, total steps =    138406, score =  1.28, best =  1.28 *\n"
     ]
    }
   ],
   "source": [
    "scores = train(episode_fn, agent, max_eps=int(2e5), min_score=1.0)"
   ]
  },
  {
   "cell_type": "markdown",
   "metadata": {},
   "source": [
    "Plot of scores, and mean scores over 100 episodes:"
   ]
  },
  {
   "cell_type": "code",
   "execution_count": 4,
   "metadata": {},
   "outputs": [
    {
     "data": {
      "text/plain": [
       "[<matplotlib.lines.Line2D at 0x7fa2f0ff6390>]"
      ]
     },
     "execution_count": 4,
     "metadata": {},
     "output_type": "execute_result"
    },
    {
     "data": {
      "image/png": "[encoded data removed]",
      "text/plain": [
       "<Figure size 432x288 with 1 Axes>"
      ]
     },
     "metadata": {
      "needs_background": "light"
     },
     "output_type": "display_data"
    }
   ],
   "source": [
    "avg_scores = np.array(scores).reshape(-1, 100).mean(axis=1)\n",
    "plt.plot(scores)\n",
    "plt.plot(np.arange(avg_scores.shape[0]) * 100 + 50, avg_scores, 'r-')"
   ]
  },
  {
   "cell_type": "code",
   "execution_count": 5,
   "metadata": {},
   "outputs": [
    {
     "data": {
      "text/plain": [
       "(1001, 2.600000038743019)"
      ]
     },
     "execution_count": 5,
     "metadata": {},
     "output_type": "execute_result"
    }
   ],
   "source": [
    "agent.restore('best')\n",
    "agent.noise.sigma = 0.0\n",
    "\n",
    "steps, score = unity_episode(env, agent, env.brain_names[0], train=False)\n",
    "steps, score"
   ]
  },
  {
   "cell_type": "code",
   "execution_count": 6,
   "metadata": {},
   "outputs": [
    {
     "data": {
      "text/html": [
       "<video width=\"320\" height=\"240\" controls>\n",
       "  <source src=\"./recording.mp4\" type=\"video/mp4\">\n",
       "</video>\n"
      ],
      "text/plain": [
       "<IPython.core.display.HTML object>"
      ]
     },
     "metadata": {},
     "output_type": "display_data"
    }
   ],
   "source": [
    "%%HTML\n",
    "<video width=\"320\" height=\"240\" controls>\n",
    "  <source src=\"./recording.mp4\" type=\"video/mp4\">\n",
    "</video>"
   ]
  }
 ],
 "metadata": {
  "kernelspec": {
   "display_name": "drlnd",
   "language": "python",
   "name": "drlnd"
  },
  "language_info": {
   "codemirror_mode": {
    "name": "ipython",
    "version": 3
   },
   "file_extension": ".py",
   "mimetype": "text/x-python",
   "name": "python",
   "nbconvert_exporter": "python",
   "pygments_lexer": "ipython3",
   "version": "3.6.6"
  }
 },
 "nbformat": 4,
 "nbformat_minor": 2
}
